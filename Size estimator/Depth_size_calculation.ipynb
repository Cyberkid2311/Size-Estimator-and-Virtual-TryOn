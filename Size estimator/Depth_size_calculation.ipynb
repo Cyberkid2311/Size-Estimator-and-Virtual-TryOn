{
  "nbformat": 4,
  "nbformat_minor": 0,
  "metadata": {
    "colab": {
      "name": "Depth_size_calculation.ipynb",
      "provenance": []
    },
    "kernelspec": {
      "name": "python3",
      "display_name": "Python 3"
    },
    "language_info": {
      "name": "python"
    }
  },
  "cells": [
    {
      "cell_type": "markdown",
      "metadata": {
        "id": "ZvKZ2wn5wbMD"
      },
      "source": [
        "##This netbook uses the points from depth estimation to get required side measurements\n"
      ]
    },
    {
      "cell_type": "code",
      "metadata": {
        "id": "DNICVBNvwS6B"
      },
      "source": [
        "import numpy as np\n",
        "import cv2\n",
        "import matplotlib.pyplot as plt\n",
        "import math"
      ],
      "execution_count": null,
      "outputs": []
    },
    {
      "cell_type": "markdown",
      "metadata": {
        "id": "DjspdzU5wzSj"
      },
      "source": [
        "Getting contours"
      ]
    },
    {
      "cell_type": "code",
      "metadata": {
        "colab": {
          "base_uri": "https://localhost:8080/"
        },
        "id": "2qhZWScGwaUR",
        "outputId": "9fa49e63-6117-4f64-c22c-8a68678b5a00"
      },
      "source": [
        "print(\"Enter user height\")\n",
        "height=input()\n",
        "print(\"Enter user image path\")\n",
        "img_path=input()\n",
        "img = cv2.imread(img_path)\n",
        "gray = cv2.cvtColor(img, cv2.COLOR_BGR2GRAY)\n",
        "a=gray.max()\n",
        "flag, thresh = cv2.threshold(gray, 120, 255, cv2.THRESH_BINARY)\n",
        "# Find contours\n",
        "contours, hierarchy = cv2.findContours(thresh, cv2.RETR_TREE, cv2.CHAIN_APPROX_SIMPLE)\n",
        "contours = sorted(contours, key=cv2.contourArea, reverse=True) \n",
        "\n",
        "perimeters = [cv2.arcLength(contours[i],True) for i in range(len(contours))]\n",
        "listindex=[i for i in range(15) if perimeters[i]>perimeters[0]/2]\n",
        "numcards=len(listindex)\n",
        "\n",
        "card_number = -1 \n",
        "stencil = np.zeros(img.shape).astype(img.dtype)\n",
        "cv2.drawContours(stencil, [contours[listindex[card_number]]], 0, (255, 255, 255), cv2.FILLED)\n",
        "res = cv2.bitwise_and(img, stencil)\n",
        "cnt = cv2.Canny(res, 100, 200)"
      ],
      "execution_count": null,
      "outputs": [
        {
          "output_type": "stream",
          "text": [
            "Enter user height\n",
            "156\n",
            "Enter user image path\n",
            "/content/mside.png\n"
          ],
          "name": "stdout"
        }
      ]
    },
    {
      "cell_type": "markdown",
      "metadata": {
        "id": "y78Qc37XxaKJ"
      },
      "source": [
        "Get the points estimated from depth estimations defined as \"points\""
      ]
    },
    {
      "cell_type": "code",
      "metadata": {
        "id": "U8U-tdT-xRFM"
      },
      "source": [
        "#substitute the points here\n",
        "points=[(268, 11), (256, 81), (244, 104), (244, 198), (279, 302), (244, 104), (221, 174), (279, 291), (256, 279), (256, 372), (256, 477), (268, 268), (268, 372), (256, 466), (256, 198)]"
      ],
      "execution_count": null,
      "outputs": []
    },
    {
      "cell_type": "code",
      "metadata": {
        "colab": {
          "base_uri": "https://localhost:8080/"
        },
        "id": "MPDS_Lt4x0Wl",
        "outputId": "8a78c65a-4456-4ca7-9b9c-b0ba69159b80"
      },
      "source": [
        "userheight=int(height)-8 #considering the ankle error\n",
        "calculatedheight=(points[13][1]-points[0][1])\n",
        "ratio=(userheight/calculatedheight)#calculating actual height to pixcel ratio\n",
        "print(ratio)"
      ],
      "execution_count": null,
      "outputs": [
        {
          "output_type": "stream",
          "text": [
            "0.3252747252747253\n"
          ],
          "name": "stdout"
        }
      ]
    },
    {
      "cell_type": "markdown",
      "metadata": {
        "id": "6tFEpTVDyUqP"
      },
      "source": [
        "bust side"
      ]
    },
    {
      "cell_type": "code",
      "metadata": {
        "colab": {
          "base_uri": "https://localhost:8080/"
        },
        "id": "oAPepaSvx9qC",
        "outputId": "b0f41a0e-ab93-4ff0-cc9d-398512767aba"
      },
      "source": [
        "hiplimit=points[8][1]\n",
        "shoulderlimit=points[5][1]\n",
        "verticallimit=points[0][0]\n",
        "curr_min=0\n",
        "for c in contours:\n",
        "    for i in c:\n",
        "        if(i[0][0]>verticallimit and i[0][1]<hiplimit and i[0][1]>shoulderlimit):\n",
        "            if i[0][0]>curr_min:\n",
        "                curr_min=i[0][0]\n",
        "                bustpoint=i\n",
        "bustz=(bustpoint[0][0]-points[2][0])*ratio\n",
        "print(bustz)"
      ],
      "execution_count": null,
      "outputs": [
        {
          "output_type": "stream",
          "text": [
            "22.443956043956046\n"
          ],
          "name": "stdout"
        }
      ]
    },
    {
      "cell_type": "markdown",
      "metadata": {
        "id": "u3RBthdFybtQ"
      },
      "source": [
        "waist side"
      ]
    },
    {
      "cell_type": "code",
      "metadata": {
        "colab": {
          "base_uri": "https://localhost:8080/"
        },
        "id": "LgyBCzw5yZW7",
        "outputId": "02aa4ba1-8329-4fdf-d8f6-ce2856f23114"
      },
      "source": [
        "currwaist=100000\n",
        "for c in contours:\n",
        "    for i in c:\n",
        "        if(i[0][0]<points[0][0] and i[0][1]>bustpoint[0][1] and i[0][1]<points[8][1] and points[0][0]-i[0][0]<currwaist):\n",
        "            currwaist=points[0][0]-i[0][0]\n",
        "            waistpoint=i\n",
        "curr_waist=0\n",
        "waistextreme=[]\n",
        "for c in contours:\n",
        "    for j in c:\n",
        "        if(j[0][0]>points[0][0] and j[0][1]==waistpoint[0][1] and j[0][0]-waistpoint[0][0]>curr_waist):\n",
        "            curr_waist=j[0][0]-waistpoint[0][0]\n",
        "            waistextreme=j[0][0]-waistpoint[0][0]\n",
        "if(not waistextreme):\n",
        "        waistz=(max(points[8][0],points[11][0])-waistpoint[0][0])*2*ratio\n",
        "else:\n",
        "    waistz=(waistextreme[0][0]-waistpoint[0][0])*ratio\n",
        "print(waistz)"
      ],
      "execution_count": null,
      "outputs": [
        {
          "output_type": "stream",
          "text": [
            "16.263736263736263\n"
          ],
          "name": "stdout"
        }
      ]
    },
    {
      "cell_type": "markdown",
      "metadata": {
        "id": "5U9AHXzUytqb"
      },
      "source": [
        "hip side"
      ]
    },
    {
      "cell_type": "code",
      "metadata": {
        "colab": {
          "base_uri": "https://localhost:8080/"
        },
        "id": "i79Suj_KynyT",
        "outputId": "cecee368-52f1-458a-8d64-a61d2c073e90"
      },
      "source": [
        "refa=points[8][1]\n",
        "refb=points[11][1]\n",
        "currenthip=0\n",
        "hippoint=[]\n",
        "for c in contours:\n",
        "    for i in c:\n",
        "        if(i[0][0]<points[0][0] and (i[0][1]==refa or i[0][1]==refb) and points[0][0]-i[0][0]>currenthip):\n",
        "            currenthip=points[0][0]-i[0][0]\n",
        "            hippoint=i\n",
        "if(hippoint):\n",
        "    curr_hip=0\n",
        "    hipextreme=[]\n",
        "    for c in contours:\n",
        "        for j in c:\n",
        "            if(j[0][0]>points[0][0] and j[0][1]==hippoint[0][1] and j[0][0]-hippoint[0][0]>curr_hip):\n",
        "                curr_hip=j[0][0]-hippoint[0][0]\n",
        "                hipextreme=j\n",
        "    if(not hipextreme):\n",
        "            hipz=(max(points[8][0],points[11][0])-hippoint[0][0])*2*ratio\n",
        "    else:\n",
        "        hipz=(hipextreme[0][0]-hippoint[0][0])*ratio\n",
        "    print(hipz)\n",
        "else:\n",
        "    hipz=bustz\n",
        "    print(hipz)"
      ],
      "execution_count": null,
      "outputs": [
        {
          "output_type": "stream",
          "text": [
            "22.443956043956046\n"
          ],
          "name": "stdout"
        }
      ]
    },
    {
      "cell_type": "markdown",
      "metadata": {
        "id": "nf2kvmkR1cyJ"
      },
      "source": [
        "Final measurements"
      ]
    },
    {
      "cell_type": "code",
      "metadata": {
        "id": "G2zwX9mi1bSZ"
      },
      "source": [
        "#to get the final bust measurement subsistitute bustz and bustx from size calucaltion in the formula given\n",
        "bust=2*math.pi*math.sqrt(((bustx)**2)+((bustz)**2)/2)"
      ],
      "execution_count": null,
      "outputs": []
    },
    {
      "cell_type": "code",
      "metadata": {
        "id": "Y70KlNFS2ag5"
      },
      "source": [
        "#to get the final waist measurement subsistitute waistz and waistx from size calucaltion in the formula given\n",
        "waist=2*math.pi*math.sqrt(((waistx)**2)+((waistz)**2)/2)"
      ],
      "execution_count": null,
      "outputs": []
    },
    {
      "cell_type": "code",
      "metadata": {
        "id": "lQ7ZnZeB2zWf"
      },
      "source": [
        "#to get the final hip measurement subsistitute hipz and hipx from size calucaltion in the formula given\n",
        "hip=2*math.pi*math.sqrt(((hipx)**2)+((hipz)**2)/2)"
      ],
      "execution_count": null,
      "outputs": []
    }
  ]
}